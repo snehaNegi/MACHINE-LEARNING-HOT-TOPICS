{
 "cells": [
  {
   "cell_type": "markdown",
   "id": "27b5b47c",
   "metadata": {},
   "source": [
    "# converting collection of image data to collection of numpy arrays"
   ]
  },
  {
   "cell_type": "code",
   "execution_count": 596,
   "id": "c2d00f23",
   "metadata": {},
   "outputs": [
    {
     "name": "stdout",
     "output_type": "stream",
     "text": [
      "(20, 10202)\n"
     ]
    }
   ],
   "source": [
    "from PIL import Image\n",
    "import numpy as np\n",
    "import matplotlib.pyplot as plt  \n",
    "\n",
    "\n",
    "#create empty np.array of 2 d with 0 rows and 10202 cols\n",
    "arr = np.empty((0,10202), int)\n",
    "ind1=['01','02','04','06','07','09','10','12','13']\n",
    "ind2=['02','03','04','05','06','07','09','10','11','12','13']\n",
    "list1=[1,2]\n",
    "#first 15 rows contain happy emoticons with last index as 'happy'\n",
    "for x in ind1:\n",
    "\n",
    "    name= 'subject'+ x +'.happy.gif'  \n",
    " \n",
    "    img = Image.open(name) \n",
    "    numpydata = np.asarray(img)\n",
    "    vecData= numpydata.flatten()\n",
    "    vecData = np.append(vecData,1)\n",
    "    arr = np.append(arr, [vecData.T], axis=0)\n",
    "  \n",
    "\n",
    "#next 15 rows contain sad emoticons with last index as 'sad'    \n",
    "    \n",
    "for x in ind2:\n",
    " \n",
    "    name= 'subject'+ x +'.sad.gif'  \n",
    "   \n",
    "    img = Image.open(name) \n",
    "    numpydata = np.asarray(img)\n",
    "    vecData= numpydata.flatten()\n",
    "   # vecData = np.append(vecData,'sad')\n",
    "    vecData = np.append(vecData,2)\n",
    "    arr = np.append(arr, [vecData.T], axis=0)\n",
    "    \n",
    "    \n",
    "    \n",
    "train_data=arr # to make it DxN dimention    \n",
    "    \n",
    "   \n",
    "print(train_data.shape)\n",
    "\n",
    "\n",
    "  \n",
    "#  shape\n",
    "#print(final.shape)"
   ]
  },
  {
   "cell_type": "markdown",
   "id": "b87d649d",
   "metadata": {},
   "source": [
    "# seperating Feature data points and their classification into train_X and train_Y\n",
    "# select value of K"
   ]
  },
  {
   "cell_type": "code",
   "execution_count": 597,
   "id": "d4dc0988",
   "metadata": {},
   "outputs": [
    {
     "name": "stdout",
     "output_type": "stream",
     "text": [
      "(20, 10201)\n",
      "(20, 1)\n"
     ]
    }
   ],
   "source": [
    "\n",
    "D=10201\n",
    "N=20\n",
    "k=12\n",
    "train_X=train_data[:,0:10201]\n",
    "train_Y=train_data[:,10201:10202]\n",
    "print(train_X.shape)\n",
    "print(train_Y.shape)\n"
   ]
  },
  {
   "cell_type": "markdown",
   "id": "03ab628d",
   "metadata": {},
   "source": [
    "# now we have our data as train_X we can apply higher dimentional PCA on it\n"
   ]
  },
  {
   "cell_type": "code",
   "execution_count": 598,
   "id": "da3fb9d7",
   "metadata": {},
   "outputs": [
    {
     "name": "stdout",
     "output_type": "stream",
     "text": [
      "(20, 20)\n"
     ]
    }
   ],
   "source": [
    "\n",
    "\n",
    "\n",
    "from sklearn.preprocessing import StandardScaler\n",
    "\n",
    "#standard_data=StandardScaler(with_std=False).fit_transform(train_X);\n",
    "standard_data=StandardScaler().fit_transform(train_X);\n",
    "X=standard_data\n",
    "Sx=np.matmul(X,X.T)\n",
    "Sx=Sx*(1/N)\n",
    "print(Sx.shape)\n",
    "\n"
   ]
  },
  {
   "cell_type": "markdown",
   "id": "43cf0204",
   "metadata": {},
   "source": [
    "# finding eigen vectors and eigen values of NxN i.e 20x20 covariance matrix\n",
    "# one can also see how much variance is explained by how many Principal components"
   ]
  },
  {
   "cell_type": "code",
   "execution_count": 599,
   "id": "5cc029ae",
   "metadata": {},
   "outputs": [
    {
     "name": "stdout",
     "output_type": "stream",
     "text": [
      "varience explained (in %) on  1  PC  28.600188932919053\n",
      "varience explained (in %) on  2  PC  42.576484077158746\n",
      "varience explained (in %) on  3  PC  51.657942839669644\n",
      "varience explained (in %) on  4  PC  58.45664568601832\n",
      "varience explained (in %) on  5  PC  64.76936914467066\n",
      "varience explained (in %) on  6  PC  70.40155537425275\n",
      "varience explained (in %) on  7  PC  75.07612431100017\n",
      "varience explained (in %) on  8  PC  79.11120716533874\n",
      "varience explained (in %) on  9  PC  82.30052720189941\n",
      "varience explained (in %) on  10  PC  85.30494355185765\n",
      "varience explained (in %) on  11  PC  88.11401446769511\n",
      "varience explained (in %) on  12  PC  90.48591370151784\n",
      "varience explained (in %) on  13  PC  92.41545182250256\n",
      "varience explained (in %) on  14  PC  94.21095685442543\n",
      "varience explained (in %) on  15  PC  95.64800366594446\n",
      "varience explained (in %) on  16  PC  97.05107187331544\n",
      "varience explained (in %) on  17  PC  98.24538373869892\n",
      "varience explained (in %) on  18  PC  99.24924859641258\n",
      "varience explained (in %) on  19  PC  100.00000000000003\n",
      "varience explained (in %) on  20  PC  100.00000000000003\n",
      "(20, 12)\n"
     ]
    }
   ],
   "source": [
    "\n",
    "from scipy.linalg import eigh\n",
    "\n",
    "values,vectors=eigh(Sx)\n",
    "\n",
    "total_var=values.sum()\n",
    "cum_sum=np.empty((20,),float)\n",
    "local_var=0.0\n",
    "for i in range(20):\n",
    "  local_var= local_var + values[19 - i]\n",
    "  cum_sum[i]=local_var/total_var*100\n",
    "  print(\"varience explained (in %) on \",i+1,\" PC \",(local_var/total_var)*100)  \n",
    "\n",
    "\n",
    "#print(values)\n",
    "\n",
    "#vectors=vectors.T\n",
    "vec=vectors[:,N-k: N]\n",
    "\n",
    "\n",
    "print(vec.shape)\n",
    "\n",
    "val=values[N-k:N]\n",
    "\n",
    "#print(vec)\n",
    "\n",
    "\n",
    "\n",
    "\n",
    "\n"
   ]
  },
  {
   "cell_type": "markdown",
   "id": "7a146e8d",
   "metadata": {},
   "source": [
    "# graph to see covariance explained by Principal components"
   ]
  },
  {
   "cell_type": "code",
   "execution_count": 600,
   "id": "e945092a",
   "metadata": {},
   "outputs": [
    {
     "name": "stdout",
     "output_type": "stream",
     "text": [
      "Num of components explained 90% variance: 12\n",
      "Num of components explained 95% variance: 15\n",
      "Num of components explained 99% variance: 18\n"
     ]
    },
    {
     "data": {
      "image/png": "[encoded data removed]",
      "text/plain": [
       "<Figure size 720x360 with 1 Axes>"
      ]
     },
     "metadata": {
      "needs_background": "light"
     },
     "output_type": "display_data"
    },
    {
     "name": "stdout",
     "output_type": "stream",
     "text": [
      "(20, 10201)\n",
      "(20, 12)\n"
     ]
    }
   ],
   "source": [
    "\n",
    "k95=np.argmax(cum_sum>95)+1\n",
    "k90=np.argmax(cum_sum>90)+1\n",
    "k99=np.argmax(cum_sum>99)+1\n",
    "print(\"Num of components explained 90% variance: \"+str(k90))\n",
    "print(\"Num of components explained 95% variance: \"+str(k95))\n",
    "print(\"Num of components explained 99% variance: \"+str(k99))\n",
    "\n",
    "fig=plt.figure(figsize=[10,5])\n",
    "ax=fig.add_subplot(1,1,1)\n",
    "plt.xlabel(\"no. of components\")\n",
    "plt.ylabel(\"commulative explained variance\")\n",
    "plt.axvline(x=k95, color=\"k\", linestyle=\"--\")\n",
    "plt.axhline(y=95, color=\"r\", linestyle=\"--\")\n",
    "plt.axvline(x=k90, color=\"k\", linestyle=\"--\")\n",
    "plt.axhline(y=90, color=\"r\", linestyle=\"--\")\n",
    "plt.axvline(x=k99, color=\"k\", linestyle=\"--\")\n",
    "plt.axhline(y=99, color=\"r\", linestyle=\"--\")\n",
    "plt.grid()\n",
    "xt=1+np.array(range(20))\n",
    "plt.plot(xt,cum_sum)\n",
    "major_ticks = np.arange(0, 21,1)\n",
    "ax.set_xticks(major_ticks)\n",
    "\n",
    "\n",
    "\n",
    "ax.grid(which='both')\n",
    "plt.show()\n",
    "\n",
    "print(X.shape)\n",
    "print(vec.shape)\n",
    "\n"
   ]
  },
  {
   "cell_type": "markdown",
   "id": "73b26ab0",
   "metadata": {},
   "source": [
    "# we are calculating U= eigen vector of DxD covariance matrix i.e actual sample data covariance matrix"
   ]
  },
  {
   "cell_type": "code",
   "execution_count": 601,
   "id": "61e74db9",
   "metadata": {},
   "outputs": [
    {
     "name": "stdout",
     "output_type": "stream",
     "text": [
      " U  (10201, 12)  = X.T  (10201, 20)  eigenVec  (20, 12)\n"
     ]
    }
   ],
   "source": [
    "\n",
    "U=np.matmul(X.T,vec)\n",
    "print(\" U \",U.shape, \" = X.T \",X.T.shape,\" eigenVec \", vec.shape)\n",
    "U=U.T\n"
   ]
  },
  {
   "cell_type": "code",
   "execution_count": 602,
   "id": "a59b3c5d",
   "metadata": {},
   "outputs": [],
   "source": [
    "#converting into unit vectors\n",
    "\n",
    "import math\n",
    "for i in range(k):\n",
    "    U[i]=U[i]*(1/math.sqrt(N*val[i]))\n",
    "\n",
    "\n"
   ]
  },
  {
   "cell_type": "markdown",
   "id": "601291a4",
   "metadata": {},
   "source": [
    "# finally projecting sample data points into k dimentions"
   ]
  },
  {
   "cell_type": "code",
   "execution_count": 603,
   "id": "4be52553",
   "metadata": {},
   "outputs": [
    {
     "name": "stdout",
     "output_type": "stream",
     "text": [
      "resultant new data point shape \n",
      " (12, 10201) x (10201, 20) = (12, 20)\n",
      "(12, 20)\n"
     ]
    }
   ],
   "source": [
    "coordinates=np.matmul(U, X.T)\n",
    "print('resultant new data point shape \\n', U.shape,'x', X.T.shape,'=',coordinates.shape)\n",
    "X_pca=coordinates\n",
    "print(X_pca.shape)"
   ]
  },
  {
   "cell_type": "markdown",
   "id": "9655e2c5",
   "metadata": {},
   "source": [
    "# now we have our data after applying PCA in K dimention\n",
    "# now its time to apply LDA with 2 classes\n",
    "# first find Sb=(M2-M1)X(M2-M1).T\n",
    "# then find Sw=S1+S2\n",
    "# then find non zero eigen value and corresponding eigenvec of Sw^(-1).Sb\n"
   ]
  },
  {
   "cell_type": "code",
   "execution_count": 604,
   "id": "34a335f8",
   "metadata": {},
   "outputs": [
    {
     "name": "stdout",
     "output_type": "stream",
     "text": [
      "(9, 12)\n",
      "(11, 12)\n",
      "(12, 20)\n"
     ]
    }
   ],
   "source": [
    "\n",
    "happy=X_pca[:,0:9].T\n",
    "sad=X_pca[:,9:20].T\n",
    "print(happy.shape)\n",
    "print(sad.shape)\n",
    "print(X_pca.shape)"
   ]
  },
  {
   "cell_type": "markdown",
   "id": "9e8c57a4",
   "metadata": {},
   "source": [
    "# finding mean of happy and sad class"
   ]
  },
  {
   "cell_type": "code",
   "execution_count": 605,
   "id": "6193582e",
   "metadata": {},
   "outputs": [
    {
     "name": "stdout",
     "output_type": "stream",
     "text": [
      "(12,)\n",
      "(12, 1)\n",
      "(12, 1)\n"
     ]
    }
   ],
   "source": [
    "#finding mean of happy class and sad class\n",
    "m1=happy.mean(axis=0) #mean along each feature/coulumn\n",
    "print(m1.shape)\n",
    "M1 = np.reshape(m1, (k, 1))\n",
    "print(M1.shape)\n",
    "m2=sad.mean(axis=0)\n",
    "M2=np.reshape(m2,(k,1))\n",
    "print(M2.shape)"
   ]
  },
  {
   "cell_type": "markdown",
   "id": "40acb452",
   "metadata": {},
   "source": [
    "# calculating Sb and Sw and then finding final=Sw^(-1)Sb"
   ]
  },
  {
   "cell_type": "code",
   "execution_count": 606,
   "id": "92d90137",
   "metadata": {},
   "outputs": [],
   "source": [
    "Sb=np.matmul((M1-M2),(M1-M2).T)\n",
    "v = np.cov(Sb)\n",
    "v1, v2 = np.linalg.eigh(Sb)\n",
    "\n",
    "\n",
    "#center happy class data to find covariance matrix\n",
    "happy1=StandardScaler(with_std=False).fit_transform(happy);\n",
    "#center sad class data to find covariance matrix\n",
    "sad1=StandardScaler(with_std=False).fit_transform(sad);\n",
    "\n",
    "Sw1=np.matmul(happy1.T,happy1)*(1/9)\n",
    "Sw2=np.matmul(sad1.T,sad1)*(1/11)\n",
    "Sw=Sw1+Sw2\n",
    "Sw_in=np.linalg.inv(Sw)\n",
    "\n",
    "final=np.matmul(Sw_in,Sb)\n"
   ]
  },
  {
   "cell_type": "markdown",
   "id": "ddbf26f3",
   "metadata": {},
   "source": [
    "# finding eigen valyes and eig vect for non symmetric matrix final"
   ]
  },
  {
   "cell_type": "code",
   "execution_count": 607,
   "id": "9c9fa183",
   "metadata": {},
   "outputs": [],
   "source": [
    "\n",
    "values,vectors=np.linalg.eig(final)\n",
    "\n",
    "#sort according to eigeenValues in ascending order\n",
    "idx=np.argsort(abs(values))[::-1]\n",
    "eigVal=values[idx]\n",
    "eigVec=vectors[:,idx]\n",
    "eigVec=eigVec.T\n",
    "\n"
   ]
  },
  {
   "cell_type": "markdown",
   "id": "57714432",
   "metadata": {},
   "source": [
    "# since we have 2 classes only 1 non zero eigen value will be found\n",
    "# we'll use eigen vector corresponding to that eigen value to project into 1 dim LDA"
   ]
  },
  {
   "cell_type": "code",
   "execution_count": 608,
   "id": "9d8f5205",
   "metadata": {},
   "outputs": [
    {
     "name": "stdout",
     "output_type": "stream",
     "text": [
      "(12, 20)\n"
     ]
    }
   ],
   "source": [
    "#we'll use that one non zero eigen values vector to convert into LDA classification for 2 class\n",
    "\n",
    "vec=eigVec[0:1,:]\n",
    "print(X_pca.shape)\n",
    "Y=np.matmul(vec,X_pca)\n",
    "Y=Y.T\n",
    "\n",
    "\n"
   ]
  },
  {
   "cell_type": "markdown",
   "id": "518502dd",
   "metadata": {},
   "source": [
    "# to check if two classes are seperated or not\n",
    "# in case they are seperated we'll calculate the distance of seperation"
   ]
  },
  {
   "cell_type": "code",
   "execution_count": 609,
   "id": "ec7bf2ae",
   "metadata": {},
   "outputs": [
    {
     "name": "stdout",
     "output_type": "stream",
     "text": [
      "max happy seperated by  (3.1316921174974492+0j)  from min sad \n",
      "and the separation point is  (-2.724453722445702+0j)\n",
      "mean happy seperated by  (38.90070671441004+0j)  from mean sad \n",
      "and the separation point is  (-1.945035335720501+0j)\n"
     ]
    }
   ],
   "source": [
    "\n",
    "flag=True\n",
    "#here we are calculating min and max point of happy and sad class\n",
    "minHappy=np.min(Y[0:9]) \n",
    "maxHappy=np.max(Y[0:9])\n",
    "avgHappy=np.mean(Y[0:9])\n",
    "minSad=np.min(Y[9:20])\n",
    "maxSad=np.max(Y[9:20])\n",
    "avgSad=np.mean(Y[9:20])\n",
    "\n",
    "\n",
    "if not(maxHappy<minSad or maxSad<minHappy):\n",
    "    print(\"not separated\")\n",
    "\n",
    "elif(maxHappy<minSad):\n",
    "    flag=True\n",
    "   \n",
    "    separate=(minSad-maxHappy)\n",
    "    mSeparate=(avgSad-avgHappy)\n",
    "   \n",
    "    \n",
    "    sep=maxHappy+separate/2.0\n",
    "    msep=avgHappy+mSeparate/2.0\n",
    "    print(\"max happy seperated by \",separate,\" from min sad \")\n",
    "    print(\"and the separation point is \", sep)\n",
    "    print(\"mean happy seperated by \",mSeparate,\" from mean sad \")\n",
    "    print(\"and the separation point is \", msep)\n",
    "else:\n",
    "    flag=False\n",
    "    separate=(minHappy-maxSad)\n",
    "    mSeparate=avgHappy-avgSad\n",
    "   \n",
    "    sep=maxSad+separate/2.0\n",
    "    msep=avgSad+mSeparate/2.0\n",
    "    print(\"max sad seperated by \",separate,\" from min happy \")\n",
    "    print(\"and the separation point is \", sep)\n",
    "    print(\"mean sad seperated by \",mSeparate,\" from mean happy \")\n",
    "    print(\"and the separation point is \", msep)\n",
    "\n",
    "\n"
   ]
  },
  {
   "cell_type": "markdown",
   "id": "9ed4ac74",
   "metadata": {},
   "source": [
    "# plot of 1 Dim LDA projection"
   ]
  },
  {
   "cell_type": "code",
   "execution_count": 610,
   "id": "f41531df",
   "metadata": {},
   "outputs": [
    {
     "name": "stdout",
     "output_type": "stream",
     "text": [
      "(20, 1)\n",
      "(20, 1)\n"
     ]
    },
    {
     "name": "stderr",
     "output_type": "stream",
     "text": [
      "/home/sneha/anaconda3/lib/python3.9/site-packages/numpy/core/_asarray.py:171: ComplexWarning: Casting complex values to real discards the imaginary part\n",
      "  return array(a, dtype, copy=False, order=order, subok=True)\n",
      "/home/sneha/anaconda3/lib/python3.9/site-packages/numpy/core/_asarray.py:102: ComplexWarning: Casting complex values to real discards the imaginary part\n",
      "  return array(a, dtype, copy=False, order=order)\n"
     ]
    },
    {
     "data": {
      "image/png": "[encoded data removed]",
      "text/plain": [
       "<Figure size 432x288 with 1 Axes>"
      ]
     },
     "metadata": {
      "needs_background": "light"
     },
     "output_type": "display_data"
    }
   ],
   "source": [
    "\n",
    "x1=Y\n",
    "x2=np.full((20,1),1)\n",
    "print(x1.shape)\n",
    "print(x2.shape)\n",
    "fig=plt.figure()\n",
    "ax=fig.add_subplot(1,1,1)\n",
    "\n",
    "scatter=ax.scatter(x1,x2,c=train_Y, edgecolor='none', alpha=1, cmap=plt.cm.get_cmap('viridis',2))\n",
    "legend1 = ax.legend(*scatter.legend_elements(),\n",
    "                    loc=\"lower left\", title=\"Classes\")\n",
    "ax.add_artist(legend1)\n",
    "\n",
    "plt.xlabel('Linear discriminant 1', axes=ax)\n",
    "plt.ylabel('fixed Y dimention', axes=ax)\n",
    "#plt.axvline(x=sep, color=\"k\", linestyle=\"--\")\n",
    "plt.axvline(x=msep, color=\"r\", linestyle=\"--\")\n",
    "\n",
    "# Major ticks every 20, minor ticks every 5\n",
    "major_ticks = np.arange(-40, +40, 10)\n",
    "minor_ticks = np.arange(-40, +40, 5)\n",
    "\n",
    "\n",
    "ax.set_xticks(major_ticks)\n",
    "ax.set_xticks(minor_ticks, minor=True)\n",
    "\n",
    "ax.grid(which='both')\n",
    "plt.show()\n",
    "\n"
   ]
  },
  {
   "cell_type": "markdown",
   "id": "da8423ae",
   "metadata": {},
   "source": [
    "# now we'll test the accuracy of LDA perform on different k which give separation"
   ]
  },
  {
   "cell_type": "markdown",
   "id": "50c37723",
   "metadata": {},
   "source": [
    "# first collect the test data in the form matrix of (10x10202) dimention, where last column denotes the label"
   ]
  },
  {
   "cell_type": "code",
   "execution_count": 611,
   "id": "28e3eea4",
   "metadata": {},
   "outputs": [
    {
     "name": "stdout",
     "output_type": "stream",
     "text": [
      "(10, 10202)\n"
     ]
    }
   ],
   "source": [
    "\n",
    "arr2= np.empty((0,10202), int)\n",
    "ind1=['03','05','08','11','14','15']\n",
    "ind2=['01','08','14','15']\n",
    "\n",
    "#first 15 rows contain happy emoticons with last index as 'happy'\n",
    "for x in ind1:\n",
    "\n",
    "    name= 'subject'+ x +'.happy.gif'  \n",
    " \n",
    "    img = Image.open(name) \n",
    "    numpydata = np.asarray(img)\n",
    "    vecData= numpydata.flatten()\n",
    "    #vecData = np.append(vecData,'happy')\n",
    "    vecData = np.append(vecData,1)\n",
    "    arr2 = np.append(arr2, [vecData.T], axis=0)\n",
    "  \n",
    "\n",
    "#next 15 rows contain sad emoticons with last index as 'sad'    \n",
    "    \n",
    "for x in ind2:\n",
    " \n",
    "    name= 'subject'+ x +'.sad.gif'  \n",
    "   \n",
    "    img = Image.open(name) \n",
    "    numpydata = np.asarray(img)\n",
    "    vecData= numpydata.flatten()\n",
    "   # vecData = np.append(vecData,'sad')\n",
    "    vecData = np.append(vecData,2)\n",
    "    arr2 = np.append(arr2, [vecData.T], axis=0)\n",
    "    \n",
    "    \n",
    "    \n",
    "test_data=arr2 # to make it DxN dimention    \n",
    "    \n",
    "   \n",
    "print(test_data.shape)\n",
    "\n"
   ]
  },
  {
   "cell_type": "markdown",
   "id": "3adae3eb",
   "metadata": {},
   "source": [
    "# seperate test data into test_X (feature data) and test_Y( label od data)"
   ]
  },
  {
   "cell_type": "code",
   "execution_count": 612,
   "id": "4a9555bc",
   "metadata": {},
   "outputs": [
    {
     "name": "stdout",
     "output_type": "stream",
     "text": [
      "(10, 10201)\n",
      "(10, 1)\n"
     ]
    }
   ],
   "source": [
    "test_X=test_data[:,0:10201]\n",
    "test_Y=test_data[:,10201:10202]\n",
    "print(test_X.shape)\n",
    "print(test_Y.shape)"
   ]
  },
  {
   "cell_type": "markdown",
   "id": "40cb6506",
   "metadata": {},
   "source": [
    "# standardise the data in the same way we did for train data"
   ]
  },
  {
   "cell_type": "code",
   "execution_count": 613,
   "id": "a07892b5",
   "metadata": {},
   "outputs": [
    {
     "name": "stdout",
     "output_type": "stream",
     "text": [
      "(10, 10201)\n"
     ]
    }
   ],
   "source": [
    "\n",
    "from sklearn.preprocessing import StandardScaler\n",
    "\n",
    "#standard_data=StandardScaler(with_std=False).fit_transform(train_X);\n",
    "standard_data=StandardScaler().fit_transform(test_X);\n",
    "X=standard_data\n",
    "print(X.shape)"
   ]
  },
  {
   "cell_type": "markdown",
   "id": "9c798404",
   "metadata": {},
   "source": [
    "# project the test data into k dimention by multipying with the projection matrix calculated for train data"
   ]
  },
  {
   "cell_type": "code",
   "execution_count": 614,
   "id": "899e6353",
   "metadata": {},
   "outputs": [
    {
     "name": "stdout",
     "output_type": "stream",
     "text": [
      "resultant new data point shape \n",
      " (12, 10201) x (10201, 10) = (12, 10)\n"
     ]
    }
   ],
   "source": [
    "#converting to corresponding PCA for k dim\n",
    "coordinates=np.matmul(U, X.T)\n",
    "print('resultant new data point shape \\n', U.shape,'x', X.T.shape,'=',coordinates.shape)\n",
    "X_pca=coordinates"
   ]
  },
  {
   "cell_type": "markdown",
   "id": "6131f406",
   "metadata": {},
   "source": [
    "# converting into 1 Dim LDA by multipyling with the projection vector calculated for train data"
   ]
  },
  {
   "cell_type": "code",
   "execution_count": 615,
   "id": "991c0dd2",
   "metadata": {},
   "outputs": [],
   "source": [
    "#converting into 1 dim LDA\n",
    "Y=np.matmul(vec,X_pca)\n"
   ]
  },
  {
   "cell_type": "markdown",
   "id": "9c97009a",
   "metadata": {},
   "source": [
    "# calculating accuracy of test data by checking its value in 1 dim with respect to the threshold calculated using train data"
   ]
  },
  {
   "cell_type": "code",
   "execution_count": 616,
   "id": "d2201322",
   "metadata": {},
   "outputs": [
    {
     "name": "stdout",
     "output_type": "stream",
     "text": [
      "with separation on min max for k=  12  accuracy  90.0\n",
      "with separation on mean for k=  12  accuracy  100.0\n"
     ]
    }
   ],
   "source": [
    "c=0\n",
    "p=0\n",
    "if(flag):\n",
    "    for i in range(10):\n",
    "        if(Y[0][i]<sep and test_Y[i][0]==1 ):\n",
    "            c+=1\n",
    "            \n",
    "        elif (Y[0][i]>=sep and test_Y[i][0]==2):\n",
    "            c+=1\n",
    "             \n",
    "        if(Y[0][i]<msep and test_Y[i][0]==1 ):\n",
    "            p+=1\n",
    "            \n",
    "        elif (Y[0][i]>=sep and test_Y[i][0]==2):\n",
    "            p+=1\n",
    "                 \n",
    "            \n",
    "       \n",
    "         \n",
    "else:\n",
    "     for i in range(10):\n",
    "        if(Y[0][i]>sep and test_Y[i][0]==1 ):\n",
    "            c+=1\n",
    "        elif(Y[0][i]<=sep and test_Y[i][0]==2):\n",
    "            c+=1\n",
    "        if(Y[0][i]>msep and test_Y[i][0]==1 ):\n",
    "            p+=1\n",
    "        elif(Y[0][i]<=msep and test_Y[i][0]==2):\n",
    "            p+=1\n",
    "           \n",
    "\n",
    "print(\"with separation on min max for k= \",k,\" accuracy \", (c/10)*100)\n",
    "\n",
    "print(\"with separation on mean for k= \",k,\" accuracy \", (p/10)*100)\n",
    "\n",
    "    \n",
    "            \n",
    "        \n",
    "            \n",
    "    "
   ]
  },
  {
   "cell_type": "markdown",
   "id": "1679de8e",
   "metadata": {},
   "source": [
    "# plotting test Data fo better visulaisation"
   ]
  },
  {
   "cell_type": "code",
   "execution_count": 617,
   "id": "9c794412",
   "metadata": {},
   "outputs": [
    {
     "name": "stderr",
     "output_type": "stream",
     "text": [
      "/home/sneha/anaconda3/lib/python3.9/site-packages/numpy/core/_asarray.py:171: ComplexWarning: Casting complex values to real discards the imaginary part\n",
      "  return array(a, dtype, copy=False, order=order, subok=True)\n",
      "/home/sneha/anaconda3/lib/python3.9/site-packages/numpy/core/_asarray.py:102: ComplexWarning: Casting complex values to real discards the imaginary part\n",
      "  return array(a, dtype, copy=False, order=order)\n"
     ]
    },
    {
     "data": {
      "image/png": "[encoded data removed]",
      "text/plain": [
       "<Figure size 432x288 with 1 Axes>"
      ]
     },
     "metadata": {
      "needs_background": "light"
     },
     "output_type": "display_data"
    }
   ],
   "source": [
    "x1=Y\n",
    "x2=np.full((10,1),1)\n",
    "fig=plt.figure()\n",
    "ax=fig.add_subplot(1,1,1)\n",
    "\n",
    "scatter=ax.scatter(x1,x2,c=test_Y, edgecolor='none', alpha=1, cmap=plt.cm.get_cmap('viridis',2))\n",
    "legend1 = ax.legend(*scatter.legend_elements(),\n",
    "                    loc=\"lower left\", title=\"Classes\")\n",
    "ax.add_artist(legend1)\n",
    "\n",
    "plt.xlabel('Linear discriminant 1', axes=ax)\n",
    "plt.ylabel('fixed Y dimention', axes=ax)\n",
    "\n",
    "#plt.axvline(x=sep, color=\"k\", linestyle=\"--\")\n",
    "plt.axvline(x=msep, color=\"r\", linestyle=\"--\")\n",
    "\n",
    "# Major ticks every 20, minor ticks every 5\n",
    "major_ticks = np.arange(-40, +40, 10)\n",
    "minor_ticks = np.arange(-40, +40, 5)\n",
    "\n",
    "\n",
    "ax.set_xticks(major_ticks)\n",
    "ax.set_xticks(minor_ticks, minor=True)\n",
    "\n",
    "ax.grid(which='both')\n",
    "plt.show()\n",
    "\n"
   ]
  },
  {
   "cell_type": "markdown",
   "id": "f9630170",
   "metadata": {},
   "source": [
    "# observation"
   ]
  },
  {
   "cell_type": "markdown",
   "id": "07cb5ae8",
   "metadata": {},
   "source": [
    "# k=10: not seperated\n",
    "# k=12:\n",
    "1.max happy seperated by  (3.13169211)  from min sad \n",
    "and the separation point is  (-2.7244537)\n",
    "   \n",
    "2.mean happy seperated by  (38.90070671)  from mean sad \n",
    "and the separation point is  (-1.9450353)\n",
    "   \n",
    "3.when separation on min max, for k=  12  accuracy  90.0\n",
    "   \n",
    "4.when separation on mean, for k=  12  accuracy  100.0\n",
    "\n",
    "# k=13\n",
    "1.max happy seperated by  (13.57693935)  from min sad \n",
    "and the separation point is  (-1.218097563750)\n",
    "\n",
    "2.mean happy seperated by  (37.4861193)  from mean sad \n",
    "and the separation point is  (-1.8743059)\n",
    "\n",
    "3.when separation on min max, for k=  13  accuracy  70.0\n",
    "\n",
    "4.when separation on mean, for k=  13  accuracy  70.0\n",
    "\n",
    "# k=14\n",
    "1.max happy seperated by  (13.58483421)  from min sad \n",
    "and the separation point is  (-1.75111634)\n",
    "\n",
    "2.mean happy seperated by  (37.481861604)  from mean sad \n",
    "and the separation point is  (-1.874093080)\n",
    "\n",
    "3.when separation on min max, for k=  14  accuracy  70.0\n",
    "\n",
    "4.when separation on mean, for k=  14  accuracy  70.0\n",
    "\n",
    "# k=15\n",
    "1.max happy seperated by  (10.162460418943967+0j)  from min sad \n",
    "and the separation point is  (-1.4412398755248486+0j)\n",
    "\n",
    "2.mean happy seperated by  (36.849954585129005+0j)  from mean sad \n",
    "and the separation point is  (-1.842497729256447+0j)\n",
    "\n",
    "3.when separation on min max, for k=  15  accuracy  80.0\n",
    "\n",
    "4.when separation on mean, for k=  15  accuracy  80.0\n",
    "\n",
    "# k=16\n",
    "1.max sad seperated by  (11.5980511)  from min happy \n",
    "and the separation point is  (2.584391)\n",
    "\n",
    "2.mean sad seperated by  (36.54763694)  from mean happy \n",
    "and the separation point is  (1.82738184)\n",
    "\n",
    "3.when separation on min max, for k=  16  accuracy  80.0\n",
    "\n",
    "4.when separation on mean, for k=  16  accuracy  80.0\n",
    "\n",
    "# k=17\n",
    "1.max sad seperated by  (15.42576171)  from min happy \n",
    "and the separation point is  (2.437124)\n",
    "\n",
    "2.mean sad seperated by  (35.9817538147)  from mean happy \n",
    "and the separation point is  (1.799087690)\n",
    "\n",
    "3.when separation on min max, for k=  17  accuracy  70.0\n",
    "\n",
    "4.when separation on mean, for k=  17  accuracy  80.0\n",
    "\n",
    "# k=18\n",
    "1.max happy seperated by  (22.8543761)  from min sad \n",
    "and the separation point is  (-4.31111225)\n",
    "\n",
    "2.mean happy seperated by  (35.58907249216)  from mean sad \n",
    "and the separation point is  (-1.779453624)\n",
    "\n",
    "3.when separation on min max for k=  18  accuracy  70.0\n",
    "\n",
    "4.when separation on mean for k=  18  accuracy  70.0\n",
    "\n",
    "# k=19\n",
    "1.max happy seperated by  (34.644215640)  from min sad \n",
    "and the separation point is  (-1.73221078)\n",
    "\n",
    "2.mean happy seperated by  (34.644215640)  from mean sad \n",
    "and the separation point is  (-1.732210782)\n",
    "\n",
    "3.when separation on min max, for k=  19  accuracy  80.0\n",
    "\n",
    "4.when separation on mean, for k=  19  accuracy  80.0\n",
    "\n"
   ]
  },
  {
   "cell_type": "markdown",
   "id": "caf32857",
   "metadata": {},
   "source": [
    "# Conclusion"
   ]
  },
  {
   "cell_type": "markdown",
   "id": "b45270eb",
   "metadata": {},
   "source": [
    "we get 90% variance explained on K=12\n",
    "and max accuracy of 90% on test Data when center between the distance of max_left and min_right of \n",
    "2 classes (left and right) i.e (3.13169211)\n",
    "is choosesn as threshold i.e (-2.7244537).\n",
    "\n",
    "and max accuracy of 100% on test data when center between the distance of mean of 2 classes (38.90070671)\n",
    "is choosen as threshold i.e (-1.9450353)\n",
    "\n",
    "we get max distance between 2 classes i.e between min_right and max_left of 2 classes at k=19\n",
    "which is (34.644215640) \n",
    "but the accuracy here is only 80% in both cases when the threshold is choosen as center between\n",
    "the distance of max_left and min_right as well as when center is choosen as center of distance between mean \n",
    "of 2 classes.\n",
    "\n",
    "So k=12 would be the best choice for k according to me which give max accuracy\n",
    "and k=19 would give maximum seperation between 2 classes in train data"
   ]
  },
  {
   "cell_type": "code",
   "execution_count": null,
   "id": "8a4f2bd0",
   "metadata": {},
   "outputs": [],
   "source": []
  },
  {
   "cell_type": "code",
   "execution_count": null,
   "id": "613466b5",
   "metadata": {},
   "outputs": [],
   "source": []
  },
  {
   "cell_type": "code",
   "execution_count": null,
   "id": "005f481a",
   "metadata": {},
   "outputs": [],
   "source": []
  },
  {
   "cell_type": "code",
   "execution_count": null,
   "id": "543de738",
   "metadata": {},
   "outputs": [],
   "source": []
  }
 ],
 "metadata": {
  "kernelspec": {
   "display_name": "Python 3 (ipykernel)",
   "language": "python",
   "name": "python3"
  },
  "language_info": {
   "codemirror_mode": {
    "name": "ipython",
    "version": 3
   },
   "file_extension": ".py",
   "mimetype": "text/x-python",
   "name": "python",
   "nbconvert_exporter": "python",
   "pygments_lexer": "ipython3",
   "version": "3.9.7"
  }
 },
 "nbformat": 4,
 "nbformat_minor": 5
}
