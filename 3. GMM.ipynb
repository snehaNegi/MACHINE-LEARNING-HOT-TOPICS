{
 "cells": [
  {
   "cell_type": "code",
   "execution_count": 54,
   "id": "f7d95f2f",
   "metadata": {},
   "outputs": [],
   "source": [
    "import numpy as np\n",
    "import os\n",
    "from sklearn.cluster import KMeans\n",
    "from matplotlib import pyplot as plt\n",
    "import scipy\n",
    "import math\n",
    "\n",
    "from scipy.spatial.distance import cdist\n",
    "from scipy.stats import multivariate_normal\n",
    "\n",
    "from scipy.io import wavfile\n",
    "from sklearn.cluster import KMeans"
   ]
  },
  {
   "cell_type": "markdown",
   "id": "c0ac118a",
   "metadata": {},
   "source": [
    "# Spectrogram calculation function"
   ]
  },
  {
   "cell_type": "code",
   "execution_count": 55,
   "id": "7bba9d0f",
   "metadata": {},
   "outputs": [],
   "source": [
    "def spectrogram(X,sr):\n",
    "   \n",
    "    #25ms window is equal to 25ms*16khz=400 sample window\n",
    "    window=25*10**(-3)*sr\n",
    "    \n",
    "    #10 ms hop is equal to 10ms*16khz=160 sample hop\n",
    "    hop=10*10**(-3)*sr\n",
    "    \n",
    "    FFT=64\n",
    "    \n",
    "    # calculate number of frames\n",
    "    frames = 1 + np.int32(np.floor((len(X) - window) / float(hop)))\n",
    "    Y = np.zeros((frames, FFT), np.complex64)\n",
    "    \n",
    "    #finding FFT features for each frame\n",
    "    for i in range(frames):\n",
    "        start=int(i*hop)\n",
    "        end=int(start+window)\n",
    "        z = X[start: end] * np.hamming(window)\n",
    "        Y[i] = np.fft.fft(z, n=FFT)\n",
    "    \n",
    "            \n",
    "    # obtain log of the absolute values of the features and selected only 128 out of 256\n",
    "    Y= np.log(np.abs(Y[:, :32]))\n",
    "  \n",
    "    return Y"
   ]
  },
  {
   "cell_type": "markdown",
   "id": "8f2e4cc0",
   "metadata": {},
   "source": [
    "# Load data function"
   ]
  },
  {
   "cell_type": "code",
   "execution_count": 56,
   "id": "c503f760",
   "metadata": {},
   "outputs": [],
   "source": [
    "def load_data(path):\n",
    "\n",
    "    input_list = os.listdir(path)\n",
    "    frames=[]\n",
    "\n",
    "    for file_name in input_list:\n",
    "#         print(file_name)\n",
    "        file_path = path + file_name\n",
    "        samp_rate, data= wavfile.read(file_path)\n",
    "        spec=spectrogram(data,samp_rate)\n",
    "        frames.extend(spec)\n",
    "        \n",
    "    frames = np.array(frames)\n",
    "    return frames  \n",
    "   "
   ]
  },
  {
   "cell_type": "code",
   "execution_count": 57,
   "id": "bed083e8",
   "metadata": {},
   "outputs": [],
   "source": [
    "def infinity_replacement(X,N):\n",
    "    for i in range(N):\n",
    "        for j in range(D):\n",
    "            if math.isinf(X[i][j]):\n",
    "                X[i][j] = np.mean(X[i-1])\n",
    "                \n",
    "    return X"
   ]
  },
  {
   "cell_type": "markdown",
   "id": "a2202dbf",
   "metadata": {},
   "source": [
    "# Loading train data"
   ]
  },
  {
   "cell_type": "code",
   "execution_count": 58,
   "id": "8df09f67",
   "metadata": {},
   "outputs": [
    {
     "name": "stdout",
     "output_type": "stream",
     "text": [
      "(119920, 32)\n",
      "(119920, 32)\n"
     ]
    }
   ],
   "source": [
    "music_path= 'speechMusicData/speech_music_classification/train/music/'\n",
    "speech_path='speechMusicData/speech_music_classification/train/speech/'\n",
    "\n",
    "music_data=load_data(music_path)\n",
    "speech_data=load_data(speech_path)\n",
    "# print(music_data)\n",
    "(N,D)=speech_data.shape\n",
    "music_data=infinity_replacement(music_data,N)\n",
    "speech_Data=infinity_replacement(speech_data,N)\n",
    "\n",
    "print(music_data.shape)\n",
    "print(speech_data.shape)"
   ]
  },
  {
   "cell_type": "markdown",
   "id": "294e953d",
   "metadata": {},
   "source": [
    "# K-means algorithm"
   ]
  },
  {
   "cell_type": "code",
   "execution_count": 59,
   "id": "33da8b78",
   "metadata": {},
   "outputs": [],
   "source": [
    "def KMEANS(X,k):\n",
    "\n",
    "    row,col=X.shape\n",
    "   \n",
    "    #initializing centers randomly\n",
    "    np.random.seed(4160659)\n",
    "    centers = X[np.random.choice(row, k, replace=False)]\n",
    "    \n",
    "    closest = np.zeros(row).astype(int)\n",
    "    count=20\n",
    "    while True:\n",
    "        old_closest = closest.copy()\n",
    "        # calculating distance of each point from the center\n",
    "        distances = cdist(X, centers)\n",
    "        #calculating closest center for each data point\n",
    "        closest = np.argmin(distances, axis=1)\n",
    "    \n",
    "        #updating centers\n",
    "        for i in range(k):\n",
    "            centers[i, :] = X[closest == i].mean(axis=0)\n",
    "        #if conversion occurs    \n",
    "        count-=1\n",
    "        if all(closest == old_closest  ):\n",
    "                break\n",
    "    \n",
    "    return centers, closest \n",
    "    \n",
    "    return 0"
   ]
  },
  {
   "cell_type": "markdown",
   "id": "2f5b6259",
   "metadata": {},
   "source": [
    "# Full covariance matrix function"
   ]
  },
  {
   "cell_type": "code",
   "execution_count": 60,
   "id": "fc963467",
   "metadata": {},
   "outputs": [],
   "source": [
    "def full_sigma(Z,mean,weight,sigma):\n",
    "    \n",
    "#     sigma = np.zeros((K,D,D))\n",
    "    for k in range(K):\n",
    "        for i in range(N):\n",
    "            diff = (X[i]-mean[k]).reshape(1,D)\n",
    "            sigma[k] += Z[i,k] * np.dot(diff.T, diff)\n",
    "        \n",
    "        sigma[k] /= weight[k]\n",
    "        "
   ]
  },
  {
   "cell_type": "markdown",
   "id": "b28f83dc",
   "metadata": {},
   "source": [
    "# Diagonal covariance matrix function"
   ]
  },
  {
   "cell_type": "code",
   "execution_count": 61,
   "id": "674584dc",
   "metadata": {},
   "outputs": [],
   "source": [
    "def diag_sigma(Z,mean,weight,sigma):\n",
    "    \n",
    "#     sigma = np.zeros((K,D,D))\n",
    "    for k in range(K):\n",
    "        sigmaTemp=np.zeros((1,D))\n",
    "        for i in range(N):\n",
    "        \n",
    "            diff = ((X[i]-mean[k])**2).reshape(1,D)\n",
    "            \n",
    "            sigmaTemp += Z[i,k] * diff\n",
    "            #print(sigmaTemp)\n",
    "        \n",
    "        sigmaTemp /= weight[k]\n",
    "        #sigmaTemp+=1e-6\n",
    "       \n",
    "        sigma[k]=np.diag(sigmaTemp.reshape(D,))\n",
    "        #new_covs[i].flat[::data.shape[1] + 1] += 1e-6\n",
    "       "
   ]
  },
  {
   "cell_type": "markdown",
   "id": "d5f551c9",
   "metadata": {},
   "source": [
    "# Multivariant gaussian probability function\n"
   ]
  },
  {
   "cell_type": "code",
   "execution_count": 62,
   "id": "2180530b",
   "metadata": {},
   "outputs": [],
   "source": [
    "def Prob_Gaussian(x,mean,sigma):\n",
    "    \n",
    "    x=x.reshape(D,1)\n",
    "    \n",
    "    mean=mean.reshape(D,1)\n",
    " \n",
    "    sig_inv = np.linalg.inv(sigma)\n",
    "    \n",
    "    temp=-1 * 0.5 * np.matmul(np.matmul((x-mean).T,sig_inv),(x-mean))\n",
    "    \n",
    "    exponent = np.exp(temp)\n",
    "    \n",
    "    prob = exponent/np.sqrt(np.power(2*np.pi,D)*np.linalg.det(sigma))\n",
    "      \n",
    "#     prob=multivariate_normal.pdf(x, mean=mean, cov=sigma)\n",
    "    \n",
    "    return prob"
   ]
  },
  {
   "cell_type": "markdown",
   "id": "cd1465dd",
   "metadata": {},
   "source": [
    "# E step"
   ]
  },
  {
   "cell_type": "code",
   "execution_count": 63,
   "id": "f06fdc0a",
   "metadata": {},
   "outputs": [],
   "source": [
    "def E_step1(X,mean,sigma,alpha):\n",
    "    \n",
    "    N, D = X.shape\n",
    "    \n",
    "    print(\"N =\",N)\n",
    "    \n",
    "    Z = np.zeros((N, K))\n",
    "    \n",
    "    Y = np.zeros((K, N))\n",
    "    \n",
    "    for j in range(K):\n",
    "        Y[j] = multivariate_normal.pdf(X, mean=mean[j].flatten(), cov=sigma[j])\n",
    "\n",
    "        \n",
    "    logsum = 0\n",
    "\n",
    "    for i in range(N):\n",
    "        D = 0\n",
    "        for j in range(K):\n",
    "            D += (alpha[j] * Y[j][i])\n",
    "        for j in range(K):\n",
    "            numerator = (alpha[j] * Y[j][i])\n",
    "            Z[i][j] = numerator / D\n",
    "        \n",
    "        logsum += math.log(D)\n",
    "    \n",
    "    return (logsum, Z)\n",
    "            "
   ]
  },
  {
   "cell_type": "markdown",
   "id": "8c050be0",
   "metadata": {},
   "source": [
    "# M step"
   ]
  },
  {
   "cell_type": "code",
   "execution_count": 64,
   "id": "dcf20393",
   "metadata": {},
   "outputs": [],
   "source": [
    "def M_step1(X,Z,diag):\n",
    "    \n",
    "    NK = np.zeros(K)\n",
    "    \n",
    "    newAlpha = np.zeros(K)\n",
    "    \n",
    "    newMean = np.zeros((K, 1, 32))\n",
    "\n",
    "    newSigma = np.zeros((K, 32, 32))\n",
    "\n",
    "    for i in range(N):\n",
    "\n",
    "        for j in range(K):\n",
    "            NK[j] += Z[i][j]\n",
    "            newMean[j] += X[i:i+1,:] * Z[i][j]\n",
    "            \n",
    "\n",
    "    for j in range(K):\n",
    "        newMean[j] /= NK[j]\n",
    "        \n",
    "\n",
    "    for j in range(K):\n",
    "        newAlpha[j] = NK[j] / N\n",
    "        \n",
    "    weight = np.sum(Z, axis=0)     \n",
    "     \n",
    "    if(diag):\n",
    "         diag_sigma(Z,newMean,weight,newSigma)\n",
    "    else:\n",
    "        full_sigma(Z,newMean,weight,newSigma)\n",
    "        \n",
    "\n",
    "    return (newAlpha, newMean, newSigma)\n",
    "    "
   ]
  },
  {
   "cell_type": "markdown",
   "id": "b61af842",
   "metadata": {},
   "source": [
    "# Log Likelihood function"
   ]
  },
  {
   "cell_type": "code",
   "execution_count": 65,
   "id": "e3563c75",
   "metadata": {},
   "outputs": [],
   "source": [
    "def likelihood(X, alpha, mean, sigma):\n",
    "    LL = 0  \n",
    "    sum = 0\n",
    "    N, t = X.shape\n",
    "  \n",
    "    for n in range(N): \n",
    "        sum=0\n",
    "        for k in range(K):\n",
    "            sum += alpha[k] * Prob_Gaussian(X[n], mean[k], sigma[k])\n",
    "            \n",
    "        LL += np.log(sum)\n",
    "        sum = 0\n",
    "    \n",
    "    return LL"
   ]
  },
  {
   "cell_type": "code",
   "execution_count": 66,
   "id": "15adfbaf",
   "metadata": {},
   "outputs": [],
   "source": [
    "iterations = 8\n",
    "\n",
    "def GMM1(X, mean, sigma, alpha, diag):\n",
    "    \n",
    "    Z = np.zeros((N, K))\n",
    "\n",
    "    LL_values = []\n",
    "\n",
    "    P = np.zeros((K, N))\n",
    "\n",
    "    for itr in range(iterations):\n",
    "        \n",
    "        print(\"Running\")\n",
    "        \n",
    "        # calculating multivariate gaussian prob for each data point\n",
    "        for j in range(K):\n",
    "            P[j] = multivariate_normal.pdf(X, mean=mean[j].flatten(), cov=sigma[j])\n",
    "            \n",
    "        # calculating loglikelihood and our wight matrix Z\n",
    "        logSum = 0\n",
    "      \n",
    "        for n in range(N):\n",
    "            denominator = 0\n",
    "            for k in range(K):\n",
    "                denominator += (alpha[k] * P[k][n])\n",
    "            \n",
    "            for k in range(K):\n",
    "                numerator = (alpha[k] * P[k][n])\n",
    "                Z[n][k] = numerator / denominator\n",
    "        \n",
    "            logSum += math.log(denominator)\n",
    "\n",
    "        LL_values.append(logSum)\n",
    "        \n",
    "        alpha,mean,sigma = M_step1(X,Z,diag)\n",
    "\n",
    "    logArray = np.array(LL_values)\n",
    "    return logArray, mean, sigma, alpha\n"
   ]
  },
  {
   "cell_type": "markdown",
   "id": "5781ad24",
   "metadata": {},
   "source": [
    "# K-mean Initialization function"
   ]
  },
  {
   "cell_type": "code",
   "execution_count": 67,
   "id": "cb4035ae",
   "metadata": {},
   "outputs": [],
   "source": [
    "def KMEAN_INIT(X,K,diag):\n",
    "    N, D = X.shape\n",
    "    mean, closest = KMEANS(X,K)\n",
    "\n",
    "    sigma = np.zeros((K,D,D))\n",
    "    alpha = np.zeros((K))\n",
    "    Z= np.zeros((N,K))\n",
    "\n",
    "    for i in range(N):    \n",
    "        Z[i][closest[i]] = 1\n",
    "\n",
    "    weight=np.sum(Z,axis=0)\n",
    "    alpha=weight/N\n",
    "    \n",
    "    if(diag==False):\n",
    "         full_sigma(Z,mean,weight,sigma)\n",
    "    else:\n",
    "         diag_sigma(Z,mean,weight,sigma)\n",
    "        \n",
    "        \n",
    "    return (mean, alpha,sigma,Z)\n"
   ]
  },
  {
   "cell_type": "markdown",
   "id": "4f1d26e9",
   "metadata": {},
   "source": [
    "# function to plot log-likelihood"
   ]
  },
  {
   "cell_type": "code",
   "execution_count": 68,
   "id": "28b1e8eb",
   "metadata": {},
   "outputs": [],
   "source": [
    "def plot_likelihood(LL_values, name):\n",
    "    plt.plot([i for i in range(1,iterations + 1)],LL_values)\n",
    "    plt.xlabel('Iterations')\n",
    "    plt.ylabel('Likelihood Value')\n",
    "    plt.title('Plot of Likelihood for {}'.format(name))\n",
    "    plt.show()"
   ]
  },
  {
   "cell_type": "markdown",
   "id": "f8e1a7ad",
   "metadata": {},
   "source": [
    "# K = 2 and 5 mixture with diagonal covariance"
   ]
  },
  {
   "cell_type": "markdown",
   "id": "2ca2a1f6",
   "metadata": {},
   "source": [
    "# Music class"
   ]
  },
  {
   "cell_type": "markdown",
   "id": "d8004cf1",
   "metadata": {},
   "source": [
    "# Step1: Initialization with K-Mean"
   ]
  },
  {
   "cell_type": "code",
   "execution_count": 69,
   "id": "89148288",
   "metadata": {},
   "outputs": [
    {
     "name": "stdout",
     "output_type": "stream",
     "text": [
      "(2, 32, 32)\n"
     ]
    }
   ],
   "source": [
    "diag = True\n",
    "K=2\n",
    "X=music_data\n",
    "\n",
    "N, D = music_data.shape\n",
    "(mean,alpha,sigma,Z)= KMEAN_INIT(X,K, diag)\n",
    "\n",
    "print(sigma.shape)"
   ]
  },
  {
   "cell_type": "markdown",
   "id": "d5d4a212",
   "metadata": {},
   "source": [
    "# Step2: EM algorithm Iteration"
   ]
  },
  {
   "cell_type": "code",
   "execution_count": 70,
   "id": "32b2823a",
   "metadata": {},
   "outputs": [
    {
     "name": "stdout",
     "output_type": "stream",
     "text": [
      "Running\n",
      "Running\n",
      "Running\n",
      "Running\n",
      "Running\n",
      "Running\n",
      "Running\n",
      "Running\n"
     ]
    }
   ],
   "source": [
    "LL_music, meanM, sigmaM, alphaM = GMM1(X, mean, sigma, alpha, diag)\n",
    "# print(LL_music)\n"
   ]
  },
  {
   "cell_type": "code",
   "execution_count": 71,
   "id": "93cfde27",
   "metadata": {},
   "outputs": [
    {
     "data": {
      "image/png": "[encoded data removed]",
      "text/plain": [
       "<Figure size 432x288 with 1 Axes>"
      ]
     },
     "metadata": {
      "needs_background": "light"
     },
     "output_type": "display_data"
    }
   ],
   "source": [
    "# Plot the log likelihood for Music model\n",
    "plot_likelihood(LL_music,\"music\")"
   ]
  },
  {
   "cell_type": "markdown",
   "id": "c6ba40f0",
   "metadata": {},
   "source": [
    "# Speech class"
   ]
  },
  {
   "cell_type": "markdown",
   "id": "f4dd216b",
   "metadata": {},
   "source": [
    "# Step1: Initialization with K-Mean"
   ]
  },
  {
   "cell_type": "code",
   "execution_count": 72,
   "id": "eba6416f",
   "metadata": {},
   "outputs": [],
   "source": [
    "X=speech_data\n",
    "\n",
    "N,D = X.shape\n",
    "(mean,alpha,sigma,Z)= KMEAN_INIT(X,K, diag)\n",
    "# print(Z)"
   ]
  },
  {
   "cell_type": "markdown",
   "id": "ab31ec9c",
   "metadata": {},
   "source": [
    "# Step2: EM algorithm Iteration"
   ]
  },
  {
   "cell_type": "code",
   "execution_count": 73,
   "id": "25588c4e",
   "metadata": {},
   "outputs": [
    {
     "name": "stdout",
     "output_type": "stream",
     "text": [
      "Running\n",
      "Running\n",
      "Running\n",
      "Running\n",
      "Running\n",
      "Running\n",
      "Running\n",
      "Running\n",
      "[-5388008.22240498 -5386913.8271326  -5386806.08246231 -5386790.39161048\n",
      " -5386786.11990657 -5386784.46349518 -5386783.75866961 -5386783.45336977]\n"
     ]
    },
    {
     "data": {
      "image/png": "[encoded data removed]",
      "text/plain": [
       "<Figure size 432x288 with 1 Axes>"
      ]
     },
     "metadata": {
      "needs_background": "light"
     },
     "output_type": "display_data"
    }
   ],
   "source": [
    "LL_speech, meanS, sigmaS, alphaS = GMM1(X, mean, sigma, alpha, diag)\n",
    "print(LL_speech)\n",
    "plot_likelihood(LL_speech,\"speech\")"
   ]
  },
  {
   "cell_type": "markdown",
   "id": "466e5b84",
   "metadata": {},
   "source": [
    "# Test_Data Error Checking"
   ]
  },
  {
   "cell_type": "code",
   "execution_count": 74,
   "id": "4be10741",
   "metadata": {},
   "outputs": [],
   "source": [
    "def get_likelihood(X, mean, alpha, sigma):\n",
    "\n",
    "    N, D = X.shape\n",
    "    K = 2\n",
    "    # here, D = 32, N = 2998\n",
    "#     print(N, K)\n",
    "    \n",
    "    P1 = np.zeros((K, N))\n",
    "\n",
    "    \n",
    "    for j in range(K):\n",
    "        P1[j] = multivariate_normal.pdf(X, mean=meanM[j].flatten(), cov=sigmaM[j])\n",
    "    \n",
    "#     print(\"here\")\n",
    "    \n",
    "    P2 = np.zeros((K, N))\n",
    "\n",
    "    for j in range(K):\n",
    "        P2[j] = multivariate_normal.pdf(X, mean=meanS[j].flatten(), cov=sigmaS[j])\n",
    "\n",
    "    \n",
    "    for j in range(N):\n",
    "        music = 0\n",
    "        speech = 0\n",
    "        probM = 0\n",
    "        probS = 0\n",
    "        for k in range(K):\n",
    "            probM += (alphaM[k] * P1[k][j])\n",
    "            probS += (alphaS[k] * P2[k][j])\n",
    "            \n",
    "        if(probM > probS):\n",
    "            music += 1\n",
    "        else:\n",
    "            speech += 1\n",
    "    if(music>speech):\n",
    "        return 1\n",
    "    else:\n",
    "        return 0\n",
    "    "
   ]
  },
  {
   "cell_type": "markdown",
   "id": "1804f80d",
   "metadata": {},
   "source": [
    "# Predicting whether a file belong to music or speech:\n",
    "### Based on posterior probability of the data point inside a file - If more data points have higher posterior probability in music, then the file belong to music class otherwise to speech class"
   ]
  },
  {
   "cell_type": "code",
   "execution_count": 75,
   "id": "dfdaa0e8",
   "metadata": {},
   "outputs": [
    {
     "name": "stdout",
     "output_type": "stream",
     "text": [
      "(2, 1, 32)\n"
     ]
    }
   ],
   "source": [
    "print(meanS.shape)\n",
    "test_path='speechMusicData/speech_music_classification/test/'\n",
    "input_list = os.listdir(test_path)\n",
    "path=test_path\n",
    "pred_labels = []\n",
    "count=0\n",
    "correct=0\n",
    "for file_name in input_list:\n",
    "\n",
    "    file_path = path + file_name\n",
    "    samp_rate ,data= wavfile.read(file_path)\n",
    "    spec=spectrogram(data,samp_rate)\n",
    "    pred = get_likelihood(spec,meanS,alphaS,sigmaS)\n",
    "\n",
    "    if count<24 and pred==1:\n",
    "        correct+=1\n",
    "    if count>=24 and pred==0:\n",
    "        correct+=1\n",
    "    count+=1  \n"
   ]
  },
  {
   "cell_type": "code",
   "execution_count": 76,
   "id": "46fbc562",
   "metadata": {},
   "outputs": [
    {
     "name": "stdout",
     "output_type": "stream",
     "text": [
      "Accuracy is = 0.5625\n",
      "Error is = 43.75 %\n"
     ]
    }
   ],
   "source": [
    "accuracy = (correct) / 48\n",
    "print(\"Accuracy is =\",accuracy)\n",
    "\n",
    "error = 1 - accuracy\n",
    "print(\"Error is =\",error * 100,\"%\")\n",
    "     "
   ]
  },
  {
   "cell_type": "markdown",
   "id": "a3bc63b8",
   "metadata": {},
   "source": [
    "# Observations"
   ]
  },
  {
   "cell_type": "markdown",
   "id": "8c75c648",
   "metadata": {},
   "source": [
    "# 1. For K = 2 with diagonal covariance matrix, error rate is 43 %"
   ]
  },
  {
   "cell_type": "markdown",
   "id": "49b83ab7",
   "metadata": {},
   "source": [
    "# 2. For K = 2 with full covariance matrix, error rate is 35%"
   ]
  },
  {
   "cell_type": "markdown",
   "id": "7ca37438",
   "metadata": {},
   "source": [
    "# 3. For K = 5 with daig cov matrix, error rate is 23%"
   ]
  },
  {
   "cell_type": "markdown",
   "id": "1d35af4b",
   "metadata": {},
   "source": [
    "# 4. We can see that with increase in number of GMMs, the better approximation we get for the data distribution. Consequently, less error rate. "
   ]
  },
  {
   "cell_type": "markdown",
   "id": "848d6edc",
   "metadata": {},
   "source": [
    "# 5. By using the diagonal cov matrix, the computational cost decreases but at the cost of accuracy."
   ]
  },
  {
   "cell_type": "code",
   "execution_count": null,
   "id": "8253a318",
   "metadata": {},
   "outputs": [],
   "source": [
    "\n"
   ]
  },
  {
   "cell_type": "code",
   "execution_count": null,
   "id": "f1d61058",
   "metadata": {},
   "outputs": [],
   "source": []
  },
  {
   "cell_type": "code",
   "execution_count": null,
   "id": "e01aa365",
   "metadata": {},
   "outputs": [],
   "source": []
  },
  {
   "cell_type": "code",
   "execution_count": null,
   "id": "391c16f3",
   "metadata": {},
   "outputs": [],
   "source": []
  },
  {
   "cell_type": "code",
   "execution_count": null,
   "id": "6cc64252",
   "metadata": {},
   "outputs": [],
   "source": []
  },
  {
   "cell_type": "code",
   "execution_count": null,
   "id": "7673b645",
   "metadata": {},
   "outputs": [],
   "source": []
  },
  {
   "cell_type": "code",
   "execution_count": null,
   "id": "a3dd8fcf",
   "metadata": {},
   "outputs": [],
   "source": []
  },
  {
   "cell_type": "code",
   "execution_count": null,
   "id": "de2e049d",
   "metadata": {},
   "outputs": [],
   "source": []
  },
  {
   "cell_type": "code",
   "execution_count": null,
   "id": "36efde3b",
   "metadata": {},
   "outputs": [],
   "source": []
  },
  {
   "cell_type": "code",
   "execution_count": null,
   "id": "e3ec50a1",
   "metadata": {},
   "outputs": [],
   "source": []
  },
  {
   "cell_type": "code",
   "execution_count": null,
   "id": "be39f2da",
   "metadata": {},
   "outputs": [],
   "source": []
  },
  {
   "cell_type": "code",
   "execution_count": null,
   "id": "1be83640",
   "metadata": {},
   "outputs": [],
   "source": []
  },
  {
   "cell_type": "code",
   "execution_count": null,
   "id": "39ea0480",
   "metadata": {},
   "outputs": [],
   "source": [
    "\n",
    "\n",
    "\n",
    "\n"
   ]
  },
  {
   "cell_type": "code",
   "execution_count": null,
   "id": "ec8b7c54",
   "metadata": {},
   "outputs": [],
   "source": []
  },
  {
   "cell_type": "code",
   "execution_count": null,
   "id": "24e33d57",
   "metadata": {},
   "outputs": [],
   "source": [
    "\n"
   ]
  }
 ],
 "metadata": {
  "kernelspec": {
   "display_name": "Python 3 (ipykernel)",
   "language": "python",
   "name": "python3"
  },
  "language_info": {
   "codemirror_mode": {
    "name": "ipython",
    "version": 3
   },
   "file_extension": ".py",
   "mimetype": "text/x-python",
   "name": "python",
   "nbconvert_exporter": "python",
   "pygments_lexer": "ipython3",
   "version": "3.9.7"
  }
 },
 "nbformat": 4,
 "nbformat_minor": 5
}
